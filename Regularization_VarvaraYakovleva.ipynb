{
 "cells": [
  {
   "cell_type": "code",
   "execution_count": null,
   "metadata": {
    "collapsed": true
   },
   "outputs": [],
   "source": [
    "#Varvara Yakovleva"
   ]
  },
  {
   "cell_type": "code",
   "execution_count": 90,
   "metadata": {
    "collapsed": true
   },
   "outputs": [],
   "source": [
    "import pandas as pd\n",
    "import numpy as np\n",
    "import csv\n",
    "import random as rnd\n",
    "from sklearn.model_selection import train_test_split\n",
    "import matplotlib.pyplot as plt\n",
    "from sklearn import preprocessing\n",
    "%matplotlib inline"
   ]
  },
  {
   "cell_type": "markdown",
   "metadata": {},
   "source": [
    "## Read file into dataframe"
   ]
  },
  {
   "cell_type": "code",
   "execution_count": 91,
   "metadata": {
    "collapsed": true
   },
   "outputs": [],
   "source": [
    "df = pd.read_csv(\"regLinPoli2.csv\") ##insert your own path"
   ]
  },
  {
   "cell_type": "code",
   "execution_count": 92,
   "metadata": {
    "collapsed": true
   },
   "outputs": [],
   "source": [
    "##df"
   ]
  },
  {
   "cell_type": "markdown",
   "metadata": {},
   "source": [
    "## Divide in train and test"
   ]
  },
  {
   "cell_type": "code",
   "execution_count": 93,
   "metadata": {
    "collapsed": true
   },
   "outputs": [],
   "source": [
    "X_train, X_test, Y_train, Y_test = train_test_split(df[df.columns[0:-1]],df[[df.columns[-1]]], train_size=0.75)\n",
    "#print X_train.columns.values"
   ]
  },
  {
   "cell_type": "markdown",
   "metadata": {},
   "source": [
    "### I recommend that after manipulating data using pandas and before modelling to convert dataframes into arrays. This may avoid some headaches"
   ]
  },
  {
   "cell_type": "code",
   "execution_count": 94,
   "metadata": {
    "collapsed": true
   },
   "outputs": [],
   "source": [
    "X_train=np.asarray(X_train)\n",
    "X_test=np.asarray(X_test)\n",
    "Y_train=np.asarray(Y_train)\n",
    "Y_test=np.asarray(Y_test)"
   ]
  },
  {
   "cell_type": "markdown",
   "metadata": {},
   "source": [
    "## Procedure for data standardizing"
   ]
  },
  {
   "cell_type": "code",
   "execution_count": 95,
   "metadata": {
    "collapsed": true
   },
   "outputs": [],
   "source": [
    "# This procedure is useful for classroom examples. For a real implementation you have to have a separete method \n",
    "# for transforming the production data so you can transform it as you get it with the fitted scaler\n",
    "## The procedure returns a standardized copy of the input data\n",
    "def normalize(X_train,X_test,Y_train,Y_test,do=True):\n",
    "\n",
    "    scale_X=preprocessing.StandardScaler()\n",
    "    scale_y=preprocessing.StandardScaler()\n",
    "    \n",
    "    train_X=np.copy(X_train)\n",
    "    train_y=np.copy(Y_train)\n",
    "    test_X=np.copy(X_test)\n",
    "    test_y=np.copy(Y_test)\n",
    "    if do:\n",
    "        scale_X.fit(train_X)\n",
    "        scale_y.fit(train_y)\n",
    "        train_X=scale_X.transform(train_X)\n",
    "        train_y=scale_y.transform(train_y)\n",
    "        test_X=scale_X.transform(test_X)\n",
    "        test_y=scale_y.transform(test_y)\n",
    "    return train_X,test_X, train_y, test_y"
   ]
  },
  {
   "cell_type": "markdown",
   "metadata": {},
   "source": [
    "## Incremental regularized regression procedures"
   ]
  },
  {
   "cell_type": "code",
   "execution_count": 96,
   "metadata": {
    "collapsed": true
   },
   "outputs": [],
   "source": [
    "## Transfer function\n",
    "def salida(w,X):\n",
    "    return X.dot(w[1:]) +w[0]\n"
   ]
  },
  {
   "cell_type": "code",
   "execution_count": 97,
   "metadata": {
    "collapsed": true
   },
   "outputs": [],
   "source": [
    "## Training function\n",
    "def entrena(X,y,w,la=0.0,eta=0.01):\n",
    "    \n",
    "    for i in range(len(X)):\n",
    "        error=y[i]-salida(w,X[i])\n",
    "        w[0]=w[0]+eta*(error)\n",
    "        w[1:]=w[1:]+eta*(error*X[i])-la*w[1:]\n",
    "    return w\n"
   ]
  },
  {
   "cell_type": "markdown",
   "metadata": {},
   "source": [
    "## Error function"
   ]
  },
  {
   "cell_type": "code",
   "execution_count": 98,
   "metadata": {
    "collapsed": true
   },
   "outputs": [],
   "source": [
    "def calcError(X,y,w,w0):\n",
    "    return np.mean((X.dot(w)+w0-y)**2)"
   ]
  },
  {
   "cell_type": "markdown",
   "metadata": {},
   "source": [
    "## Use"
   ]
  },
  {
   "cell_type": "code",
   "execution_count": 99,
   "metadata": {
    "collapsed": true
   },
   "outputs": [],
   "source": [
    "train_X,test_X,train_y,test_y=normalize(X_train,X_test,Y_train,Y_test)"
   ]
  },
  {
   "cell_type": "code",
   "execution_count": 100,
   "metadata": {
    "collapsed": true
   },
   "outputs": [],
   "source": [
    "w=np.asarray([rnd.random() for i in range(1+len(train_X[0]))])\n",
    "for i in range(100):\n",
    "    w=entrena(train_X,train_y,w,la=0.00)"
   ]
  },
  {
   "cell_type": "code",
   "execution_count": 101,
   "metadata": {},
   "outputs": [
    {
     "name": "stdout",
     "output_type": "stream",
     "text": [
      "0.533977604271\n",
      "0.703713982359\n"
     ]
    }
   ],
   "source": [
    "## flatten here to convert y from a matrix to a vector. Only 1 response variable\n",
    "print calcError(train_X,train_y.flatten(),w[1:],w[0])\n",
    "print calcError(test_X,test_y.flatten(),w[1:],w[0])"
   ]
  },
  {
   "cell_type": "markdown",
   "metadata": {
    "collapsed": true
   },
   "source": [
    "# Exercise"
   ]
  },
  {
   "cell_type": "code",
   "execution_count": 102,
   "metadata": {
    "collapsed": true
   },
   "outputs": [],
   "source": [
    "## complexity = 1- lambda  x error "
   ]
  },
  {
   "cell_type": "code",
   "execution_count": 109,
   "metadata": {
    "collapsed": true
   },
   "outputs": [],
   "source": [
    "#divide train set into 5 subsets randomly\n",
    "index=np.array([1 if rnd.random() < 0.2 else 2 if rnd.random() < 0.4 else 3 if rnd.random() < 0.6 else 4 if rnd.random() < 0.8 else 5 for i in range(len(X_train))])\n",
    "\n",
    "X_test1=np.array(X_train)[index==1]\n",
    "Y_test1=np.array(Y_train)[index==1]\n",
    "X_test2=np.array(X_train)[index==2]\n",
    "Y_test2=np.array(Y_train)[index==2]\n",
    "X_test3=np.array(X_train)[index==3]\n",
    "Y_test3=np.array(Y_train)[index==3]\n",
    "X_test4=np.array(X_train)[index==4]\n",
    "Y_test4=np.array(Y_train)[index==4]\n",
    "X_test5=np.array(X_train)[index==5]\n",
    "Y_test5=np.array(Y_train)[index==5]\n",
    "\n",
    "#define future train sets\n",
    "X_train1=np.vstack((X_test2, X_test3, X_test4, X_test5))\n",
    "Y_train1=np.vstack((Y_test2, Y_test3, Y_test4, Y_test5))\n",
    "    \n",
    "X_train2=np.vstack((X_test1, X_test3, X_test4, X_test5))\n",
    "Y_train2=np.vstack((Y_test1, Y_test3, Y_test4, Y_test5))\n",
    "\n",
    "    \n",
    "X_train3=np.vstack((X_test2, X_test1, X_test4, X_test5))\n",
    "Y_train3=np.vstack((Y_test2, Y_test1, Y_test4, Y_test5))\n",
    "    \n",
    "X_train4=np.vstack((X_test2, X_test3, X_test1, X_test5))\n",
    "Y_train4=np.vstack((Y_test2, Y_test3, Y_test1, Y_test5))\n",
    "    \n",
    "X_train5=np.vstack((X_test2, X_test3, X_test4, X_test1))\n",
    "Y_train5=np.vstack((Y_test2, Y_test3, Y_test4, Y_test1))\n",
    "\n",
    "#define lambdas \n",
    "lam = [0, 0.001, 0.002, 0.003, 0.004, 0.005, 0.01, 0.015, 0.02, 0.03, 0.04]\n",
    "lam = np.array(lam)"
   ]
  },
  {
   "cell_type": "code",
   "execution_count": 110,
   "metadata": {
    "collapsed": true
   },
   "outputs": [],
   "source": [
    "#for each lambda have 5 trainings where 1 train set is a test set, calculate the error\n",
    "errlam = []\n",
    "for i in range(len(lam)):\n",
    "    \n",
    "    train_X1,test_X1,train_y1,test_y1=normalize(X_train1,X_test1,Y_train1,Y_test1)\n",
    "    \n",
    "    w=np.asarray([rnd.random() for k in range(1+len(train_X1[0]))])\n",
    "    for m in range(10):\n",
    "            w=entrena(train_X1,train_y1,w,la= lam[i])\n",
    "    err1 = calcError(test_X1,test_y1.flatten(),w[1:],w[0])\n",
    "    \n",
    "    \n",
    "    train_X2,test_X2,train_y2,test_y2=normalize(X_train2,X_test2,Y_train2,Y_test2)\n",
    "    \n",
    "    w=np.asarray([rnd.random() for k in range(1+len(train_X2[0]))])\n",
    "    for m in range(10):\n",
    "        w=entrena(train_X2,train_y2,w,la= lam[i])\n",
    "    err2 = calcError(test_X2,test_y2.flatten(),w[1:],w[0])\n",
    "    \n",
    "    \n",
    "    train_X3,test_X3,train_y3,test_y3=normalize(X_train3,X_test3,Y_train3,Y_test3)\n",
    "    \n",
    "    w=np.asarray([rnd.random() for k in range(1+len(train_X3[0]))])\n",
    "    for m in range(10):\n",
    "        w=entrena(train_X3,train_y3,w,la= lam[i])\n",
    "    err3 = calcError(test_X3,test_y3.flatten(),w[1:],w[0])\n",
    "    \n",
    "    \n",
    "    train_X4,test_X4,train_y4,test_y4=normalize(X_train4,X_test4,Y_train4,Y_test4)\n",
    "    \n",
    "    w=np.asarray([rnd.random() for k in range(1+len(train_X4[0]))])\n",
    "    for m in range(10):\n",
    "        w=entrena(train_X4,train_y4,w,la= lam[i])\n",
    "    err4 = calcError(test_X4,test_y4.flatten(),w[1:],w[0])\n",
    "    \n",
    "    \n",
    "    train_X5,test_X5,train_y5,test_y5=normalize(X_train5,X_test5,Y_train5,Y_test5)\n",
    "    \n",
    "    w=np.asarray([rnd.random() for k in range(1+len(train_X5[0]))])\n",
    "    for m in range(10):\n",
    "        w=entrena(train_X5,train_y5,w,la= lam[i])\n",
    "    err5 = calcError(test_X5,test_y5.flatten(),w[1:],w[0])\n",
    "    \n",
    "    errlam.append((err1+err2+err3+err4+err5)/float(5))"
   ]
  },
  {
   "cell_type": "code",
   "execution_count": 111,
   "metadata": {},
   "outputs": [
    {
     "data": {
      "image/png": "[encoded data removed]",
      "text/plain": [
       "<matplotlib.figure.Figure at 0x10eb4e490>"
      ]
     },
     "metadata": {},
     "output_type": "display_data"
    }
   ],
   "source": [
    "plt.scatter(1-lam, errlam, color = 'red')\n",
    "plt.ylabel(\"Error\")\n",
    "plt.xlabel(\"complexity (1-lam)\")\n",
    "plt.show()"
   ]
  },
  {
   "cell_type": "code",
   "execution_count": 80,
   "metadata": {},
   "outputs": [
    {
     "name": "stdout",
     "output_type": "stream",
     "text": [
      "[None, None, None, None, None, None, None, None, None, None, None]\n"
     ]
    }
   ],
   "source": []
  }
 ],
 "metadata": {
  "kernelspec": {
   "display_name": "Python 2",
   "language": "python",
   "name": "python2"
  },
  "language_info": {
   "codemirror_mode": {
    "name": "ipython",
    "version": 2
   },
   "file_extension": ".py",
   "mimetype": "text/x-python",
   "name": "python",
   "nbconvert_exporter": "python",
   "pygments_lexer": "ipython2",
   "version": "2.7.10"
  }
 },
 "nbformat": 4,
 "nbformat_minor": 2
}
